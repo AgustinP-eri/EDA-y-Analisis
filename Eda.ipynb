{
 "cells": [
  {
   "cell_type": "markdown",
   "id": "60c2c5fc-4e72-4b11-90e1-58579113b499",
   "metadata": {},
   "source": [
    "## Importacion de librerias y lectura del Dataframe"
   ]
  },
  {
   "cell_type": "code",
   "execution_count": null,
   "id": "9ccab4ff-550a-43d4-8e98-753b80eac8fd",
   "metadata": {},
   "outputs": [],
   "source": [
    "\n",
    "import pandas as pd  # Manejo de datos\n",
    "import matplotlib.pyplot as plt  # Gráficos\n",
    "import numpy as np  # Operaciones numéricas\n",
    "import seaborn as sns  # Visualizaciones más atractivas"
   ]
  },
  {
   "cell_type": "code",
   "execution_count": null,
   "id": "820a7aba-51f6-4ad0-a741-e7b376ea9f78",
   "metadata": {},
   "outputs": [],
   "source": [
    "# Cargo el dataset con la primera columna como índice y configuro opciones de visualización\n",
    "df = pd.read_csv(\"C:\\\\Users\\\\peria\\\\OneDrive\\\\Escritorio\\\\winemag-data-130k-v2.csv\", index_col=0)\n",
    "pd.set_option('display.max_columns', 50)  # Muestro hasta 50 columnas\n",
    "pd.set_option('display.max_rows', None)  # Muestro todas las filas\n",
    "plt.style.use('seaborn-v0_8-darkgrid')  # Estilo visual para gráficos"
   ]
  },
  {
   "cell_type": "markdown",
   "id": "7a042f0d-5c98-436f-8b9e-6f71771da554",
   "metadata": {},
   "source": [
    "## Primer vistazo y seleccion de variables"
   ]
  },
  {
   "cell_type": "code",
   "execution_count": null,
   "id": "9794dcfd-1e99-483a-81a1-370dcc029dd9",
   "metadata": {},
   "outputs": [],
   "source": [
    "# Veo la forma del dataset: filas y columnas\n",
    "df.shape"
   ]
  },
  {
   "cell_type": "code",
   "execution_count": null,
   "id": "e538945e-e202-47e7-a0b9-a09c0a890c7a",
   "metadata": {},
   "outputs": [],
   "source": [
    "# Muestro los nombres de todas las columnas\n",
    "df.columns"
   ]
  },
  {
   "cell_type": "code",
   "execution_count": null,
   "id": "f6a5f04b-48f8-46db-b1c2-72996ad446ea",
   "metadata": {},
   "outputs": [],
   "source": [
    "# Veo las primeras 5 filas del dataset para tener una idea general\n",
    "df.head()"
   ]
  },
  {
   "cell_type": "code",
   "execution_count": null,
   "id": "8e94404a-c7aa-4dd8-8ac7-502115f1b977",
   "metadata": {},
   "outputs": [],
   "source": [
    "# Información general del DataFrame (tipos de datos, nulos, etc.)\n",
    "df.info()"
   ]
  },
  {
   "cell_type": "markdown",
   "id": "f1a35a32-762b-49a1-af04-1ae7b9462467",
   "metadata": {},
   "source": [
    "##### la columna designation tiene al rededor de 20.000 valores nulos, la columna taster_twitter_handle y description me resultan irrelevantes, por ende las elimino"
   ]
  },
  {
   "cell_type": "code",
   "execution_count": null,
   "id": "a9ff60eb-9931-4bdb-8a2d-32874bee63f6",
   "metadata": {},
   "outputs": [],
   "source": [
    "# Elimino columnas que no aportan valor o no serán utilizadas en este análisis\n",
    "df = df.drop(columns=[\"designation\", \"taster_twitter_handle\", \"description\", \"region_2\"])"
   ]
  },
  {
   "cell_type": "code",
   "execution_count": null,
   "id": "dbbf8051-544f-4102-8b17-1d307f33b6a8",
   "metadata": {},
   "outputs": [],
   "source": [
    "# Veo las primeras 5 filas del dataset para tener una idea general\n",
    "df.head()"
   ]
  },
  {
   "cell_type": "code",
   "execution_count": null,
   "id": "0ff95f4e-c31f-4b67-9bd5-3b7955cf5c0f",
   "metadata": {},
   "outputs": [],
   "source": [
    "# Cuento la cantidad de valores nulos en cada columna\n",
    "df.isnull().sum()"
   ]
  },
  {
   "cell_type": "markdown",
   "id": "c04a6e22-f6ab-4a5e-bd92-6b59697e5261",
   "metadata": {},
   "source": [
    "## Tratamiento de nulos\n"
   ]
  },
  {
   "cell_type": "markdown",
   "id": "30bdf82f-1d0c-45a7-929d-4158ade452e9",
   "metadata": {},
   "source": [
    "### price"
   ]
  },
  {
   "cell_type": "code",
   "execution_count": null,
   "id": "c36f3e3a-d27c-4e7f-bdab-119349bc91a7",
   "metadata": {},
   "outputs": [],
   "source": [
    "# Calculo el precio promedio por variedad de vino\n",
    "promedio_precio_variedad = df.groupby(\"variety\")[\"price\"].mean()"
   ]
  },
  {
   "cell_type": "code",
   "execution_count": null,
   "id": "0cac4863-8518-4105-9a02-9f0a586bb611",
   "metadata": {},
   "outputs": [],
   "source": [
    "promedio_precio_variedad"
   ]
  },
  {
   "cell_type": "code",
   "execution_count": null,
   "id": "41a4ab61-da30-4df3-a4f2-21883225b1fd",
   "metadata": {},
   "outputs": [],
   "source": [
    "# Calculo el precio promedio por variedad de vino\n",
    "promedio_precio_variedad = df.groupby(\"variety\")[\"price\"].mean()"
   ]
  },
  {
   "cell_type": "code",
   "execution_count": null,
   "id": "4b9ba1dd-65cb-4aef-a8ec-dc3c73e79bd3",
   "metadata": {},
   "outputs": [],
   "source": [
    "df['price'] = df.apply(lambda row: promedio_precio_variedad[row['variety']] if pd.isnull(row['price']) else row['price'], axis=1)"
   ]
  },
  {
   "cell_type": "code",
   "execution_count": null,
   "id": "fa718412-0e8f-4965-badd-9d7638687961",
   "metadata": {},
   "outputs": [],
   "source": [
    "# Cuento la cantidad de valores nulos en cada columna\n",
    "df.isnull().sum()"
   ]
  },
  {
   "cell_type": "code",
   "execution_count": null,
   "id": "cff4c27f-7d8c-49f1-a105-b14ac29e4db9",
   "metadata": {},
   "outputs": [],
   "source": [
    "df.loc[df[\"price\"].isnull()]"
   ]
  },
  {
   "cell_type": "code",
   "execution_count": null,
   "id": "ec956a68-70fe-4571-b05e-e0b4108e0df7",
   "metadata": {},
   "outputs": [],
   "source": [
    "df.loc[df[\"variety\"] == \"Zelen\"]"
   ]
  },
  {
   "cell_type": "code",
   "execution_count": null,
   "id": "c9505faf-e795-4538-8084-6c6d12291ed9",
   "metadata": {},
   "outputs": [],
   "source": [
    "# Elimino columnas que no aportan valor o no serán utilizadas en este análisis\n",
    "df = df.drop(columns=[\"designation\", \"taster_twitter_handle\", \"description\", \"region_2\"])"
   ]
  },
  {
   "cell_type": "markdown",
   "id": "86e36f2f-eaae-4985-9502-7c932b7c97c0",
   "metadata": {},
   "source": [
    "### taster_name"
   ]
  },
  {
   "cell_type": "code",
   "execution_count": null,
   "id": "dfe44bb4-1b42-4cbc-936a-42e80ae33758",
   "metadata": {},
   "outputs": [],
   "source": [
    "df.loc[df[\"country\"]== \"Italy\"]"
   ]
  },
  {
   "cell_type": "code",
   "execution_count": null,
   "id": "ae913cac-446e-476f-838d-814747141d35",
   "metadata": {},
   "outputs": [],
   "source": [
    "df.loc[df[\"country\"]== \"Spain\"]"
   ]
  },
  {
   "cell_type": "code",
   "execution_count": null,
   "id": "5091f59e-6b0c-4596-a650-6e3b136beee0",
   "metadata": {},
   "outputs": [],
   "source": [
    "df.loc[df[\"country\"]== \"France\"]"
   ]
  },
  {
   "cell_type": "code",
   "execution_count": null,
   "id": "2a1a2c80-ff1b-4529-a4cf-84f792d6d190",
   "metadata": {},
   "outputs": [],
   "source": [
    "df.loc[df[\"country\"]== \"Australia\"]"
   ]
  },
  {
   "cell_type": "code",
   "execution_count": null,
   "id": "fd0f3fce-f2a3-45d0-a52c-122f1158c351",
   "metadata": {},
   "outputs": [],
   "source": [
    "df.loc[df[\"country\"]== \"South Africa\"]"
   ]
  },
  {
   "cell_type": "code",
   "execution_count": null,
   "id": "828aae9d-c156-45e3-820d-d60dbc191f3e",
   "metadata": {},
   "outputs": [],
   "source": [
    "df.loc[df[\"country\"]== \"Austria\"]"
   ]
  },
  {
   "cell_type": "code",
   "execution_count": null,
   "id": "2557ae91-e36c-4173-a17d-f10703e4cd50",
   "metadata": {},
   "outputs": [],
   "source": [
    "df.loc[df[\"country\"]== \"Chile\"]"
   ]
  },
  {
   "cell_type": "code",
   "execution_count": null,
   "id": "fd15de8a-c7c5-4fb7-94b2-f6fecfae1de2",
   "metadata": {},
   "outputs": [],
   "source": [
    "df.loc[df[\"country\"]== \"New Zealand\"]"
   ]
  },
  {
   "cell_type": "code",
   "execution_count": null,
   "id": "7a39bd5a-e50b-4d50-8ac6-da17493fb870",
   "metadata": {},
   "outputs": [],
   "source": [
    "df.loc[df[\"country\"]== \"Germany\"]"
   ]
  },
  {
   "cell_type": "code",
   "execution_count": null,
   "id": "f4fd2742-435b-4483-b2e1-93c5a442fa9c",
   "metadata": {},
   "outputs": [],
   "source": [
    "df.loc[df[\"country\"]== \"Argentina\"]"
   ]
  },
  {
   "cell_type": "code",
   "execution_count": null,
   "id": "ee99f35d-3246-4894-aa8c-b203ef61581f",
   "metadata": {},
   "outputs": [],
   "source": [
    "df.loc[df[\"country\"]== \"Mexico\"]"
   ]
  },
  {
   "cell_type": "code",
   "execution_count": null,
   "id": "2bd2ba2f-3d6d-4967-8d50-1b80892b6b55",
   "metadata": {},
   "outputs": [],
   "source": [
    "df.loc[df[\"country\"]== \"Israel\"]"
   ]
  },
  {
   "cell_type": "code",
   "execution_count": null,
   "id": "66954a8e-597e-4e65-a441-0301c6da7a03",
   "metadata": {},
   "outputs": [],
   "source": [
    "# Cuento la cantidad de valores nulos en cada columna\n",
    "df.isnull().sum()"
   ]
  },
  {
   "cell_type": "code",
   "execution_count": null,
   "id": "8e014ffc-1991-4a30-acdd-e5786e7975b6",
   "metadata": {},
   "outputs": [],
   "source": [
    "df[\"taster_name\"].value_counts()"
   ]
  },
  {
   "cell_type": "code",
   "execution_count": null,
   "id": "62603199-dee0-4b9a-ab3b-a02ae4ae9d83",
   "metadata": {},
   "outputs": [],
   "source": [
    "\n",
    "df.loc[df[\"taster_name\"] == \"Paul Gregutt\"]"
   ]
  },
  {
   "cell_type": "code",
   "execution_count": null,
   "id": "d725e973-2a44-47df-9573-ff79c81e5821",
   "metadata": {},
   "outputs": [],
   "source": [
    "\n",
    "df.loc[df[\"country\"] == \"US\"]"
   ]
  },
  {
   "cell_type": "code",
   "execution_count": null,
   "id": "e691c483-2397-4674-bb1c-156f845a62d3",
   "metadata": {},
   "outputs": [],
   "source": [
    "\n",
    "df.loc[df['country'] == 'US', 'taster_name'] = df.loc[df['country'] == 'US', 'taster_name'].fillna('Paul Gregutt')\n",
    "df.loc[df['country'] == 'Italy', 'taster_name'] = df.loc[df['country'] == 'Italy', 'taster_name'].fillna('Kerin O’Keefe')\n",
    "df.loc[df['country'] == 'France', 'taster_name'] = df.loc[df['country'] == 'France', 'taster_name'].fillna('Roger Voss')\n",
    "df.loc[df['country'] == 'Spain', 'taster_name'] = df.loc[df['country'] == 'Spain', 'taster_name'].fillna('Michael Schachner')\n",
    "df.loc[df['country'] == 'Chile', 'taster_name'] = df.loc[df['country'] == 'Chile', 'taster_name'].fillna('Michael Schachner')\n",
    "df.loc[df['country'] == 'Argentina', 'taster_name'] = df.loc[df['country'] == 'Argentina', 'taster_name'].fillna('Michael Schachner')\n",
    "df.loc[df['country'] == 'Israel', 'taster_name'] = df.loc[df['country'] == 'Israel', 'taster_name'].fillna('Michael Schachner')\n",
    "df.loc[df['country'] == 'Mexico', 'taster_name'] = df.loc[df['country'] == 'Mexico', 'taster_name'].fillna('Michael Schachner')\n",
    "df.loc[df['country'] == 'New Zealand', 'taster_name'] = df.loc[df['country'] == 'New Zealand', 'taster_name'].fillna('Joe Czerwinski')\n",
    "df.loc[df['country'] == 'Australia', 'taster_name'] = df.loc[df['country'] == 'Australia', 'taster_name'].fillna('Joe Czerwinski')"
   ]
  },
  {
   "cell_type": "code",
   "execution_count": null,
   "id": "127063e5-29ec-4c28-919c-e1fb1eb6921a",
   "metadata": {},
   "outputs": [],
   "source": [
    "df.loc[df[\"taster_name\"].isnull()]"
   ]
  },
  {
   "cell_type": "code",
   "execution_count": null,
   "id": "6a89408c-b157-4841-a2f2-891608d4a37a",
   "metadata": {},
   "outputs": [],
   "source": [
    "# Cuento la cantidad de valores nulos en cada columna\n",
    "df.isnull().sum()"
   ]
  },
  {
   "cell_type": "code",
   "execution_count": null,
   "id": "8f970b42-d858-41b0-b68e-e44b474dc46d",
   "metadata": {},
   "outputs": [],
   "source": [
    "df.loc[df[\"region_1\"].isnull()]"
   ]
  },
  {
   "cell_type": "markdown",
   "id": "4c458d87-fb73-4896-8a80-223f49337460",
   "metadata": {},
   "source": [
    "### country y province"
   ]
  },
  {
   "cell_type": "code",
   "execution_count": null,
   "id": "b55e4ec9-f32d-4ed0-b85c-2f426f80df31",
   "metadata": {},
   "outputs": [],
   "source": [
    "# Cuento la cantidad de valores nulos en cada columna\n",
    "df.isnull().sum()"
   ]
  },
  {
   "cell_type": "code",
   "execution_count": null,
   "id": "2b6dd1c4-9536-470f-907e-f705ebd52d4a",
   "metadata": {},
   "outputs": [],
   "source": [
    "df.loc[df[\"country\"].isnull()]"
   ]
  },
  {
   "cell_type": "code",
   "execution_count": null,
   "id": "ebb13805-73b1-44d7-b4ac-e36bc8662f96",
   "metadata": {},
   "outputs": [],
   "source": [
    "df.loc[df['winery'] == 'Orbelus', ['country', 'province']] = df.loc[df['winery'] == 'Orbelus', ['country', 'province']].fillna({'country': 'Bulgaria', 'province': 'Petrich'})\n",
    "df.loc[df['winery'] == 'Stone Castle', ['country', 'province']] = df.loc[df['winery'] == 'Stone Castle', ['country', 'province']].fillna({'country': 'Kosovo', 'province': 'Rahovec'})\n",
    "df.loc[df['winery'] == 'Gotsa Family Wines', ['country', 'province']] = df.loc[df['winery'] == 'Gotsa Family Wines', ['country', 'province']].fillna({'country': 'Georgia', 'province': 'Kiketi'})\n",
    "df.loc[df['winery'] == 'Barton et Guestier', ['country', 'province']] = df.loc[df['winery'] == 'Barton et Guestier', ['country', 'province']].fillna({'country': 'France', 'province': 'Bordeaux'})\n",
    "df.loc[df['winery'] == 'Tsililis', ['country', 'province']] = df.loc[df['winery'] == 'Tsililis', ['country', 'province']].fillna({'country': 'Greece', 'province': 'Meteora'})\n",
    "df.loc[df['winery'] == 'Neumeister', ['country', 'province']] = df.loc[df['winery'] == 'Neumeister', ['country', 'province']].fillna({'country': 'Austria', 'province': 'Straden'})\n",
    "df.loc[df['winery'] == 'Kakhetia Traditional Winemaking', ['country', 'province']] = df.loc[df['winery'] == 'Kakhetia Traditional Winemaking', ['country', 'province']].fillna({'country': 'Georgia', 'province': 'Kakheti '})\n",
    "df.loc[df['winery'] == 'Barton & Guestier', ['country', 'province']] = df.loc[df['winery'] == 'Barton & Guestier', ['country', 'province']].fillna({'country': 'France', 'province': 'Blanquefort'})"
   ]
  },
  {
   "cell_type": "code",
   "execution_count": null,
   "id": "34187e38-2795-46d8-b7f2-6de6f868ad67",
   "metadata": {},
   "outputs": [],
   "source": [
    "# Celda 43\n",
    "df.loc[df['winery'] == 'Ross-idi', ['country', 'province']] = df.loc[df['winery'] == 'Ross-idi', ['country', 'province']].fillna({'country': 'Greece', 'province': 'Central Macedonia'})\n",
    "df.loc[df['winery'] == 'St. Donat', ['country', 'province']] = df.loc[df['winery'] == 'St. Donat', ['country', 'province']].fillna({'country': 'Hungary', 'province': 'Balatonfüred'})\n",
    "df.loc[df['winery'] == 'Familia Deicas', ['country', 'province']] = df.loc[df['winery'] == 'Familia Deicas', ['country', 'province']].fillna({'country': 'Uruguay', 'province': 'Canelones'})\n",
    "df.loc[df['winery'] == 'Bartho Eksteen', ['country', 'province']] = df.loc[df['winery'] == 'Bartho Eksteen', ['country', 'province']].fillna({'country': 'South Africa', 'province': 'Western Cape'})\n",
    "df.loc[df['winery'] == 'Teliani Valley', ['country', 'province']] = df.loc[df['winery'] == 'Teliani Valley', ['country', 'province']].fillna({'country': 'Georgia', 'province': 'Kakheti'})\n",
    "df.loc[df['winery'] == 'Undurraga', ['country', 'province']] = df.loc[df['winery'] == 'Undurraga', ['country', 'province']].fillna({'country': 'Chile', 'province': 'Santiago'})\n",
    "df.loc[df['winery'] == 'Mt. Beautiful', ['country', 'province']] = df.loc[df['winery'] == 'Mt. Beautiful', ['country', 'province']].fillna({'country': 'New Zealand', 'province': 'Canterbury'})\n",
    "df.loc[df['winery'] == 'Bachelder', ['country', 'province']] = df.loc[df['winery'] == 'Bachelder', ['country', 'province']].fillna({'country': 'Chile', 'province': 'Valle del Maule'})\n",
    "df.loc[df['winery'] == 'Bachelder', ['country', 'province']] = df.loc[df['winery'] == 'Bachelder', ['country', 'province']].fillna({'country': 'Israel', 'province': 'Judaean Mountains'})\n",
    "df.loc[df['winery'] == 'Bachelder', ['country', 'province']] = df.loc[df['winery'] == 'Bachelder', ['country', 'province']].fillna({'country': 'Chile', 'province': 'Valle del Maipo'})\n",
    "df.loc[df['winery'] == 'Bachelder', ['country', 'province']] = df.loc[df['winery'] == 'Bachelder', ['country', 'province']].fillna({'country': 'Canada', 'province': 'Ontario'})\n",
    "df.loc[df['winery'] == 'Bachelder', ['country', 'province']] = df.loc[df['winery'] == 'Bachelder', ['country', 'province']].fillna({'country': 'South Africa', 'province': 'Western Cape'})\n",
    "df.loc[df['winery'] == 'Santa Ema', ['country', 'province']] = df.loc[df['winery'] == 'Santa Ema', ['country', 'province']].fillna({'country': 'Chile', 'province': 'Valle del Maipo'})\n",
    "df.loc[df['winery'] == 'Chilcas', ['country', 'province']] = df.loc[df['winery'] == 'Chilcas', ['country', 'province']].fillna({'country': 'Chile', 'province': 'Valle del Maule'})\n",
    "df.loc[df['winery'] == 'Bachelder', ['country', 'province']] = df.loc[df['winery'] == 'Bachelder', ['country', 'province']].fillna({'country': 'Greece', 'province': 'Western Macedonia'})\n",
    "df.loc[df['winery'] == 'Psagot', ['country', 'province']] = df.loc[df['winery'] == 'Psagot', ['country', 'province']].fillna({'country': 'Israel', 'province': 'Judaean Mountains'})\n",
    "df.loc[df['winery'] == 'Newton Johnson', ['country', 'province']] = df.loc[df['winery'] == 'Newton Johnson ', ['country', 'province']].fillna({'country': 'New Zealand', 'province': 'Western Cape'})\n",
    "df.loc[df['winery'] == 'Ktima Voyatzi', ['country', 'province']] = df.loc[df['winery'] == 'Ktima Voyatzi', ['country', 'province']].fillna({'country': 'Greece', 'province': 'Western Macedonia'})"
   ]
  },
  {
   "cell_type": "code",
   "execution_count": null,
   "id": "4ec2c6ac-674a-467e-b9fc-ce534b133408",
   "metadata": {},
   "outputs": [],
   "source": [
    "# Cuento la cantidad de valores nulos en cada columna\n",
    "df.isnull().sum()"
   ]
  },
  {
   "cell_type": "markdown",
   "id": "c51e3d2c-e290-4565-9231-ec299c33f724",
   "metadata": {},
   "source": [
    "## Analisis y Visualizacion de Datos"
   ]
  },
  {
   "cell_type": "code",
   "execution_count": null,
   "id": "550dfb20-2c33-418f-baa7-ea8427aa17dd",
   "metadata": {},
   "outputs": [],
   "source": [
    "# Elimino columnas que no aportan valor o no serán utilizadas en este análisis\n",
    "df = df.drop(columns=[\"designation\", \"taster_twitter_handle\", \"description\", \"region_2\"])"
   ]
  },
  {
   "cell_type": "code",
   "execution_count": null,
   "id": "2347bf2d-f732-4c2f-87f8-89af372ec4d7",
   "metadata": {},
   "outputs": [],
   "source": [
    "df[\"points\"].value_counts().sort_index(ascending=True)\\\n",
    "    .plot(kind=\"bar\", figsize=(15,8), \n",
    "          title=\"Distribución de Puntajes de Vinos\",\n",
    "          color=plt.cm.Spectral(np.linspace(0, 1, 20)),\n",
    "          edgecolor='black',\n",
    "          width=0.8,\n",
    "          alpha=0.7)\n",
    "\n",
    "plt.grid(axis='y', linestyle='--', alpha=0.7)\n",
    "plt.xlabel(\"Puntaje\", fontsize=12, fontweight='bold')\n",
    "plt.ylabel(\"Frecuencia\", fontsize=12, fontweight='bold')\n",
    "plt.title(\"Distribución de Puntajes de Vinos\", fontsize=14, pad=20, fontweight='bold')\n",
    "\n",
    "# Rotar etiquetas del eje x para mejor legibilidad\n",
    "plt.xticks(rotation=45)\n",
    "\n",
    "# Añadir valores sobre las barras\n",
    "for i, v in enumerate(df[\"points\"].value_counts().sort_index(ascending=True)):\n",
    "    plt.text(i, v, str(v), ha='center', va='bottom')\n",
    "\n",
    "# Ajustar márgenes\n",
    "plt.tight_layout()"
   ]
  },
  {
   "cell_type": "code",
   "execution_count": null,
   "id": "b2fca5a9",
   "metadata": {},
   "outputs": [],
   "source": [
    "sns.kdeplot(data=df, x=\"points\",\n",
    "            fill=True,\n",
    "            color=\"darkblue\",\n",
    "            alpha=0.6,\n",
    "            linewidth=2,\n",
    "            bw_adjust=0.5,\n",
    "            common_norm=True,\n",
    "            cut=0,\n",
    "            multiple=\"layer\",\n",
    "            clip=(80, 100))\n",
    "\n",
    "plt.title(\"Distribución de Densidad de Puntajes\", \n",
    "          fontsize=14, \n",
    "          pad=20,\n",
    "          fontweight=\"bold\")\n",
    "plt.xlabel(\"Puntajes\", fontsize=12, fontweight=\"bold\")\n",
    "plt.ylabel(\"Densidad\", fontsize=12, fontweight=\"bold\")\n",
    "\n",
    "plt.grid(True, linestyle=\"--\", alpha=0.7)\n",
    "plt.xticks(rotation=45)\n",
    "\n",
    "# Personalizar el estilo\n",
    "plt.rcParams[\"figure.figsize\"] = (12,6)\n",
    "\n",
    "# Añadir línea vertical en la media\n",
    "plt.axvline(x=df[\"points\"].mean(), \n",
    "            color=\"red\", \n",
    "            linestyle=\"--\", \n",
    "            label=f\"Media: {df['points'].mean():.1f}\")\n",
    "\n",
    "plt.legend()"
   ]
  },
  {
   "cell_type": "code",
   "execution_count": null,
   "id": "495689b8-f147-44e8-8028-fff52f90e4b9",
   "metadata": {},
   "outputs": [],
   "source": [
    "# Crear un scatter plot personalizado\n",
    "sns.scatterplot(data=df, \n",
    "                x=\"points\", \n",
    "                y=\"price\",\n",
    "                hue=\"price\",  # Colorear por precio\n",
    "                size=\"price\", # Tamaño por precio \n",
    "                sizes=(20, 400), # Rango de tamaños de los puntos\n",
    "                alpha=0.6,\n",
    "                palette=\"viridis\", # Paleta de colores\n",
    "                legend=\"brief\")\n",
    "\n",
    "# Añadir líneas de referencia\n",
    "plt.axhline(y=df[\"price\"].mean(), color=\"red\", linestyle=\"--\", alpha=0.3)\n",
    "plt.axvline(x=df[\"points\"].mean(), color=\"red\", linestyle=\"--\", alpha=0.3)\n",
    "\n",
    "# Personalizar el estilo\n",
    "plt.grid(True, linestyle=\":\", alpha=0.3)\n",
    "plt.title(\"Relación Precio-Puntaje\")\n",
    "plt.xlabel(\"Puntaje\")\n",
    "plt.ylabel(\"Precio\")\n",
    "plt.show()"
   ]
  },
  {
   "cell_type": "code",
   "execution_count": null,
   "id": "48a876e6-c26a-43f7-a66f-512f277eb25c",
   "metadata": {},
   "outputs": [],
   "source": [
    "# Celda 48\n",
    "df[\"country\"].value_counts(ascending=True) \\\n",
    ".plot(figsize=(15,10), \n",
    "      kind=\"barh\",\n",
    "      color=sns.color_palette(\"YlOrBr\", n_colors=len(df[\"country\"].unique())),  # Paleta de colores cálidos\n",
    "      alpha=0.85,\n",
    "      edgecolor=\"#2F1810\",  # Borde marrón oscuro\n",
    "      linewidth=1.5,\n",
    "      width=0.8,  # Ancho de las barras\n",
    "      zorder=2)  # Para que las barras aparezcan sobre la cuadrícula\n",
    "\n",
    "# Personalizar el fondo y los bordes\n",
    "plt.gca().set_facecolor(\"#FFF8DC\")  # Fondo crema claro\n",
    "plt.gca().spines[\"top\"].set_visible(False)  # Ocultar borde superior\n",
    "plt.gca().spines[\"right\"].set_visible(False)  # Ocultar borde derecho\n",
    "plt.gca().spines[\"left\"].set_color(\"#2F1810\")  # Color del borde izquierdo\n",
    "plt.gca().spines[\"bottom\"].set_color(\"#2F1810\")  # Color del borde inferior\n",
    "\n",
    "# Personalizar las etiquetas de los ejes\n",
    "plt.gca().tick_params(colors=\"#2F1810\", labelsize=10)\n",
    "plt.grid(True, linestyle=\"--\", alpha=0.3)\n",
    "plt.margins(0.02)\n",
    "\n",
    "# Añadir valores al final de cada barra\n",
    "for i, v in enumerate(df[\"country\"].value_counts(ascending=True)):\n",
    "    plt.text(v, i, f' {v:,}', va='center', fontsize=10)\n",
    "plt.xlabel(\"Cantidad de Vinos\")\n",
    "plt.ylabel(\"Pais\")\n",
    "plt.title(\"Vinos por Pais\")"
   ]
  },
  {
   "cell_type": "code",
   "execution_count": null,
   "id": "904e9872-7538-474d-be8d-231f2c398da2",
   "metadata": {},
   "outputs": [],
   "source": [
    "# Celda 49\n",
    "df[\"country\"].value_counts().nlargest(10) \\\n",
    "    .plot(figsize=(12,8), \n",
    "          kind=\"barh\",\n",
    "          color=sns.color_palette(\"RdYlBu\", n_colors=10),  # Paleta de colores degradados\n",
    "          alpha=0.8,\n",
    "          edgecolor=\"#2F1810\",  # Borde marrón oscuro\n",
    "          linewidth=1.5,\n",
    "          width=0.75)  # Ancho de las barras\n",
    "\n",
    "# Personalizar el fondo y los bordes\n",
    "plt.gca().set_facecolor(\"#F5F5F5\")  # Fondo gris muy claro\n",
    "plt.gca().spines[\"top\"].set_visible(False)  # Ocultar borde superior\n",
    "plt.gca().spines[\"right\"].set_visible(False)  # Ocultar borde derecho\n",
    "plt.gca().spines[\"left\"].set_color(\"#2F1810\")  # Color del borde izquierdo\n",
    "plt.gca().spines[\"bottom\"].set_color(\"#2F1810\")  # Color del borde inferior\n",
    "\n",
    "# Personalizar las etiquetas y la cuadrícula\n",
    "plt.gca().tick_params(colors=\"#2F1810\", labelsize=10)\n",
    "plt.grid(True, linestyle=\":\", alpha=0.3, zorder=0)\n",
    "plt.margins(0.02)\n",
    "\n",
    "# Añadir valores al final de cada barra\n",
    "for i, v in enumerate(df[\"country\"].value_counts().nlargest(10)):\n",
    "    plt.text(v, i, f' {v:,}', va='center', fontsize=10, fontweight='bold')\n",
    "plt.xlabel(\"Cantidad de Vinos\")\n",
    "plt.ylabel(\"País\")\n",
    "plt.title(\"Top 10 Países por Cantidad de Vinos\")\n",
    "\n",
    "plt.tight_layout()"
   ]
  },
  {
   "cell_type": "code",
   "execution_count": null,
   "id": "49566956-78ab-4a8b-9937-f66b0945c969",
   "metadata": {},
   "outputs": [],
   "source": [
    "# Calculo el precio promedio por variedad de vino\n",
    "promedio_precio_variedad = df.groupby(\"variety\")[\"price\"].mean()"
   ]
  },
  {
   "cell_type": "code",
   "execution_count": null,
   "id": "ab1863fa-8a9d-48e1-89be-acf18d30ae9e",
   "metadata": {},
   "outputs": [],
   "source": [
    "\n",
    "# Crear figura con tamaño personalizado\n",
    "plt.figure(figsize=(12, 8))\n",
    "\n",
    "# Crear regplot con estilo personalizado\n",
    "sns.regplot(x=precio_promedio_pais, y=puntos_promedio_pais,\n",
    "            color=\"#8B008B\")\n",
    "\n",
    "# Personalizar el fondo y los bordes\n",
    "plt.gca().set_facecolor(\"#F8F8FF\")  # Fondo gris muy claro\n",
    "plt.gca().spines[\"top\"].set_visible(False)\n",
    "plt.gca().spines[\"right\"].set_visible(False)\n",
    "plt.gca().spines[\"left\"].set_color(\"#4B0082\")\n",
    "plt.gca().spines[\"bottom\"].set_color(\"#4B0082\")\n",
    "\n",
    "# Personalizar título y etiquetas\n",
    "plt.title(\"Relación entre Precio Promedio y Puntuación por País\", \n",
    "          fontsize=14, \n",
    "          pad=20, \n",
    "          fontweight='bold',\n",
    "          color='#4B0082')\n",
    "\n",
    "# Añadir cuadrícula suave\n",
    "plt.grid(True, linestyle=':', alpha=0.3)\n",
    "\n",
    "# Ajustar márgenes\n",
    "plt.margins(0.02)\n",
    "plt.ylabel(\"Puntos\")\n",
    "plt.xlabel(\"Precio\")"
   ]
  },
  {
   "cell_type": "code",
   "execution_count": null,
   "id": "4bd838d4-01e6-4d00-8176-4021f81861a6",
   "metadata": {},
   "outputs": [],
   "source": [
    "# Calculo el precio promedio por variedad de vino\n",
    "promedio_precio_variedad = df.groupby(\"variety\")[\"price\"].mean()"
   ]
  },
  {
   "cell_type": "code",
   "execution_count": null,
   "id": "e6ad69ed-c645-462c-b891-4cc5c52ed9c5",
   "metadata": {},
   "outputs": [],
   "source": [
    "\n",
    "# Crear figura con tamaño personalizado y estilo elegante\n",
    "plt.figure(figsize=(15,10), facecolor='#f0f0f8')\n",
    "sns.violinplot(data=df, x=\"variety\", y=\"price\", \n",
    "               order=df[\"variety\"].value_counts().nlargest(10).index,\n",
    "               color=\"purple\")\n",
    "\n",
    "plt.xticks(rotation=45, ha='right')\n",
    "plt.xlabel(\"Variedad\")\n",
    "plt.ylabel(\"Precio\")\n",
    "plt.title(\"Distribución de Precios por Variedad (Top 10)\")\n",
    "\n",
    "plt.tight_layout()"
   ]
  },
  {
   "cell_type": "code",
   "execution_count": null,
   "id": "281e97f0-f334-4bb1-8500-78ce818199c3",
   "metadata": {},
   "outputs": [],
   "source": [
    "\n",
    "# Crear figura con tamaño personalizado y estilo elegante\n",
    "plt.figure(figsize=(15,10), facecolor='#f5f5f5')\n",
    "plt.gca().set_facecolor('#f8f8ff')\n",
    "plt.gca().spines['top'].set_visible(False)\n",
    "plt.gca().spines['right'].set_visible(False)\n",
    "plt.gca().spines['left'].set_color('#4a4a4a')\n",
    "plt.gca().spines['bottom'].set_color('#4a4a4a')\n",
    "plt.grid(True, linestyle=':', alpha=0.3)\n",
    "sns.violinplot(data=df, x=\"country\", y=\"price\", \n",
    "               order=df[\"country\"].value_counts().nlargest(10).index,\n",
    "               color=\"#d2b48c\")\n",
    "\n",
    "plt.xticks(rotation=45, ha='right')\n",
    "plt.xlabel(\"País\")\n",
    "plt.ylabel(\"Precio\")\n",
    "plt.title(\"Distribución de Precios por País (Top 10)\")\n",
    "\n",
    "plt.tight_layout()"
   ]
  },
  {
   "cell_type": "code",
   "execution_count": null,
   "id": "04bb6e63-605b-429d-a766-c349079a25d3",
   "metadata": {},
   "outputs": [],
   "source": [
    "# Calculo el precio promedio por variedad de vino\n",
    "promedio_precio_variedad = df.groupby(\"variety\")[\"price\"].mean()"
   ]
  },
  {
   "cell_type": "code",
   "execution_count": null,
   "id": "43848b19-192a-4d61-9d30-5ed48581d149",
   "metadata": {},
   "outputs": [],
   "source": [
    "\n",
    "# Crear figura con tamaño personalizado y estilo elegante\n",
    "plt.figure(figsize=(15,8), facecolor='#f5f5f5', dpi=100, edgecolor='#4a4a4a', linewidth=2)\n",
    "plt.gca().set_facecolor('#f8f8ff')\n",
    "\n",
    "# Eliminar bordes superiores y derechos\n",
    "plt.gca().spines['top'].set_visible(False)\n",
    "plt.gca().spines['right'].set_visible(False)\n",
    "\n",
    "# Personalizar bordes visibles\n",
    "plt.gca().spines['left'].set_color('#4a4a4a')\n",
    "plt.gca().spines['bottom'].set_color('#4a4a4a')\n",
    "\n",
    "# Crear gráfico de barras\n",
    "df.groupby(\"country\")[\"points\"].mean().sort_values(ascending=False).head(10)\\\n",
    ".plot(kind=\"bar\", color='#800080', width=0.7,\n",
    "      edgecolor='black', linewidth=1.2)\n",
    "\n",
    "# Añadir cuadrícula suave\n",
    "plt.grid(True, linestyle=':', alpha=0.3)\n",
    "\n",
    "# Rotar etiquetas del eje x\n",
    "plt.xticks(rotation=45, ha='right')\n",
    "\n",
    "# Ajustar márgenes\n",
    "plt.margins(0.02)\n",
    "plt.title(\"Los 10 paises mejor valorados\")\n",
    "plt.xlabel(\"Pais\")\n",
    "plt.ylabel(\"Puntaje\")"
   ]
  },
  {
   "cell_type": "code",
   "execution_count": null,
   "id": "032c0741-9dbf-47b1-84ac-159096dae3eb",
   "metadata": {},
   "outputs": [],
   "source": [
    "\n",
    "# Crear figura con tamaño personalizado y estilo elegante\n",
    "plt.figure(figsize=(15,8), facecolor='#f0f8ff', dpi=100, edgecolor='#483d8b', linewidth=2)\n",
    "plt.gca().set_facecolor('#f8f8ff')\n",
    "\n",
    "# Eliminar bordes superiores y derechos\n",
    "plt.gca().spines['top'].set_visible(False)\n",
    "plt.gca().spines['right'].set_visible(False)\n",
    "\n",
    "# Personalizar bordes visibles\n",
    "plt.gca().spines['left'].set_color('#483d8b')\n",
    "plt.gca().spines['bottom'].set_color('#483d8b')\n",
    "\n",
    "# Crear gráfico de barras horizontal\n",
    "df.groupby(\"taster_name\")[\"points\"].mean().sort_values(ascending=True)\\\n",
    "   .plot(kind=\"barh\", color=plt.cm.RdYlBu(np.linspace(0,1,10)), \n",
    "         width=0.7, edgecolor='black', linewidth=1.2)\n",
    "\n",
    "# Añadir cuadrícula suave\n",
    "plt.grid(True, linestyle='--', alpha=0.3)\n",
    "\n",
    "# Añadir título con estilo\n",
    "plt.title(\"Promedio de Puntuación por Catador\", \n",
    "          fontsize=16, pad=20, color='#483d8b',\n",
    "          fontweight='bold')\n",
    "\n",
    "# Añadir valores en las barras\n",
    "for i, v in enumerate(df.groupby(\"taster_name\")[\"points\"].mean()):\n",
    "    plt.text(v, i, f' {v:.1f}', va='center', fontsize=10)\n",
    "plt.xlabel(\"Puntuacion Promedio\")\n",
    "plt.ylabel(\"Catador\")"
   ]
  },
  {
   "cell_type": "code",
   "execution_count": null,
   "id": "3121db49",
   "metadata": {},
   "outputs": [],
   "source": [
    "\n",
    "# Crear figura con tamaño personalizado y estilo elegante\n",
    "plt.figure(figsize=(15,8), facecolor='#f0f8ff', dpi=100, edgecolor='#483d8b', linewidth=2)\n",
    "plt.gca().set_facecolor('#f8f8ff')\n",
    "\n",
    "# Eliminar bordes superiores y derechos\n",
    "plt.gca().spines['top'].set_visible(False)\n",
    "plt.gca().spines['right'].set_visible(False)\n",
    "\n",
    "# Personalizar bordes visibles\n",
    "plt.gca().spines['left'].set_color('#483d8b')\n",
    "plt.gca().spines['bottom'].set_color('#483d8b')\n",
    "\n",
    "# Crear boxplot personalizado\n",
    "sns.boxplot(x=\"variety\", y=\"points\",\n",
    "            data=df,\n",
    "            order=df[\"variety\"].value_counts().nlargest(20).index,\n",
    "            palette=\"husl\",\n",
    "            width=0.7,\n",
    "            linewidth=1.2,\n",
    "            fliersize=5,\n",
    "            medianprops={\"color\": \"red\", \"linewidth\": 2},\n",
    "            boxprops={\"facecolor\": \"lightblue\", \"edgecolor\": \"navy\"},\n",
    "            whiskerprops={\"color\": \"navy\", \"linewidth\": 1.5},\n",
    "            capprops={\"color\": \"navy\", \"linewidth\": 1.5})\n",
    "\n",
    "# Rotar y ajustar etiquetas del eje x\n",
    "plt.xticks(rotation=45, ha='right')\n",
    "\n",
    "# Añadir cuadrícula suave\n",
    "plt.grid(True, linestyle='--', alpha=0.3)\n",
    "\n",
    "# Ajustar márgenes\n",
    "plt.tight_layout()\n",
    "plt.title(\"Variedades mejor valoradas\")\n",
    "plt.xlabel(\"Variedad\")\n",
    "plt.ylabel(\"Puntaje\")\n",
    "plt.figure(figsize=(14,10))"
   ]
  }
 ],
 "metadata": {
  "kernelspec": {
   "display_name": "Python 3",
   "language": "python",
   "name": "python3"
  },
  "language_info": {
   "codemirror_mode": {
    "name": "ipython",
    "version": 3
   },
   "file_extension": ".py",
   "mimetype": "text/x-python",
   "name": "python",
   "nbconvert_exporter": "python",
   "pygments_lexer": "ipython3",
   "version": "3.12.9"
  }
 },
 "nbformat": 4,
 "nbformat_minor": 5
}
